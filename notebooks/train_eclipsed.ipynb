{
  "cells": [
    {
      "cell_type": "markdown",
      "metadata": {
        "id": "yhdANIqqJeb2"
      },
      "source": [
        "<a target=\"_blank\" href=\"https://colab.research.google.com/github/bitshrine/eCLIPsed/blob/main/notebooks/train_eclipsed.ipynb\">\n",
        "  <img src=\"https://colab.research.google.com/assets/colab-badge.svg\" alt=\"Open In Colab\"/>\n",
        "</a>"
      ]
    },
    {
      "cell_type": "markdown",
      "metadata": {
        "id": "RNzOgUo2Jeb5"
      },
      "source": [
        "# 0. Setup"
      ]
    },
    {
      "cell_type": "code",
      "execution_count": null,
      "metadata": {
        "id": "jKuo_NJpJeb5"
      },
      "outputs": [],
      "source": [
        "import os\n",
        "\n",
        "pkg_name = 'eCLIPsed'\n",
        "\n",
        "%pip install git+https://github.com/openai/CLIP.git\n",
        "\n",
        "if pkg_name not in os.listdir() or pkg_name not in os.getcwd():\n",
        "    !git clone https://github.com/bitshrine/eCLIPsed/\n",
        "\n",
        "if (pkg_name not in os.getcwd()):\n",
        "    %cd eCLIPsed/\n",
        "%pip install -r requirements.txt"
      ]
    },
    {
      "cell_type": "code",
      "execution_count": null,
      "metadata": {
        "id": "FF1ctnx9Jeb6"
      },
      "outputs": [],
      "source": [
        "!git pull"
      ]
    },
    {
      "cell_type": "code",
      "execution_count": 3,
      "metadata": {
        "colab": {
          "base_uri": "https://localhost:8080/"
        },
        "id": "BOJ-PDcbJeb6",
        "outputId": "cb5a9f03-98c5-435f-bd25-cd1a1fb2f6ce"
      },
      "outputs": [
        {
          "output_type": "stream",
          "name": "stdout",
          "text": [
            "Setting up PyTorch plugin \"bias_act_plugin\"... Done.\n",
            "Setting up PyTorch plugin \"upfirdn2d_plugin\"... Done.\n"
          ]
        },
        {
          "output_type": "execute_result",
          "data": {
            "text/plain": [
              "True"
            ]
          },
          "metadata": {},
          "execution_count": 3
        }
      ],
      "source": [
        "from models.stylegan3.torch_utils.ops import bias_act\n",
        "from models.stylegan3.torch_utils.ops import upfirdn2d\n",
        "\n",
        "bias_act._init() and upfirdn2d._init()"
      ]
    },
    {
      "cell_type": "code",
      "execution_count": 4,
      "metadata": {
        "id": "eGgP7RDSJeb6"
      },
      "outputs": [],
      "source": [
        "%load_ext autoreload\n",
        "%autoreload 2\n",
        "\n",
        "import torch\n",
        "from matplotlib import pyplot as plt\n",
        "import torch\n",
        "\n",
        "from utils.prompt_utils import *"
      ]
    },
    {
      "cell_type": "code",
      "execution_count": 5,
      "metadata": {
        "id": "h4dU9E82Jeb7"
      },
      "outputs": [],
      "source": [
        "import locale\n",
        "locale.getpreferredencoding = lambda: \"UTF-8\""
      ]
    },
    {
      "cell_type": "markdown",
      "metadata": {
        "id": "EpW2z4wUJeb7"
      },
      "source": [
        "# 1. Training parameters"
      ]
    },
    {
      "cell_type": "code",
      "execution_count": 6,
      "metadata": {
        "colab": {
          "base_uri": "https://localhost:8080/"
        },
        "id": "5_d9npZ7Jeb7",
        "outputId": "414c16db-088f-435e-f46c-44063fc77bda"
      },
      "outputs": [
        {
          "output_type": "stream",
          "name": "stdout",
          "text": [
            "--2023-06-02 16:49:03--  https://nvlabs-fi-cdn.nvidia.com/stylegan2-ada-pytorch/pretrained/ffhq.pkl\n",
            "Resolving nvlabs-fi-cdn.nvidia.com (nvlabs-fi-cdn.nvidia.com)... 65.8.248.73, 65.8.248.127, 65.8.248.59, ...\n",
            "Connecting to nvlabs-fi-cdn.nvidia.com (nvlabs-fi-cdn.nvidia.com)|65.8.248.73|:443... connected.\n",
            "HTTP request sent, awaiting response... 200 OK\n",
            "Length: 381624121 (364M) [binary/octet-stream]\n",
            "Saving to: ‘pretrained/ffhq.pkl’\n",
            "\n",
            "ffhq.pkl            100%[===================>] 363.94M   115MB/s    in 3.5s    \n",
            "\n",
            "2023-06-02 16:49:08 (103 MB/s) - ‘pretrained/ffhq.pkl’ saved [381624121/381624121]\n",
            "\n",
            "/usr/local/lib/python3.10/dist-packages/gdown/cli.py:121: FutureWarning: Option `--id` was deprecated in version 4.3.1 and will be removed in 5.0. You don't need to pass it anymore to use a file ID.\n",
            "  warnings.warn(\n",
            "Downloading...\n",
            "From: https://drive.google.com/uc?id=154JgKpzCPW82qINcVieuPH3fZ2e0P812\n",
            "To: /content/eCLIPsed/pretrained/face_bisenet.pth\n",
            "100% 53.3M/53.3M [00:00<00:00, 174MB/s]\n"
          ]
        }
      ],
      "source": [
        "from utils.train_utils import DEFAULT_TRAINING_PARAMS\n",
        "TRAINING_PARAMS = DEFAULT_TRAINING_PARAMS.copy()\n",
        "\n",
        "TRAINING_PARAMS.update({\n",
        "    'latent_spaces': ['W+'],\n",
        "    'loss_functions': ['L2'],\n",
        "    'mask_aggregations': ['average'],\n",
        "    'nums_latent_dirs': [1],\n",
        "    'device': 'cuda'\n",
        "})\n",
        "\n",
        "# Since we'll be using FFHQ and Face-Bisenet, we download them here\n",
        "!wget https://nvlabs-fi-cdn.nvidia.com/stylegan2-ada-pytorch/pretrained/ffhq.pkl -P pretrained\n",
        "!gdown --id 154JgKpzCPW82qINcVieuPH3fZ2e0P812 -O pretrained/face_bisenet.pth"
      ]
    },
    {
      "cell_type": "code",
      "source": [
        "analyzer = PromptAnalyzer(TRAINING_PARAMS)"
      ],
      "metadata": {
        "id": "1LLzKVt8JfsF"
      },
      "execution_count": 7,
      "outputs": []
    },
    {
      "cell_type": "code",
      "execution_count": 38,
      "metadata": {
        "cellView": "form",
        "id": "wCVkcOTvJeb7"
      },
      "outputs": [],
      "source": [
        "prompt = \"A photo of a person with curly hair\\\"\" #@param {type:\"string\"}\n"
      ]
    },
    {
      "cell_type": "code",
      "execution_count": 39,
      "metadata": {
        "colab": {
          "base_uri": "https://localhost:8080/"
        },
        "id": "m6WBzVazJeb7",
        "outputId": "7ec4177f-f2e2-4df3-9889-c26eaafacf37"
      },
      "outputs": [
        {
          "output_type": "stream",
          "name": "stdout",
          "text": [
            "New training prompt:\n",
            "A photo a person curly hair curly hair curly hair curly hair curly hair\n"
          ]
        }
      ],
      "source": [
        "part_idx, new_prompt, prompt_dir = analyzer(prompt, print_analysis=False, expansion_factor=5)\n",
        "\n",
        "print(f'New training prompt:\\n{new_prompt}')"
      ]
    },
    {
      "cell_type": "code",
      "execution_count": 10,
      "metadata": {
        "cellView": "form",
        "id": "i06BlK6VJeb8"
      },
      "outputs": [],
      "source": [
        "use_expanded_prompt = False #@param {type:\"boolean\"}\n",
        "\n",
        "if (not use_expanded_prompt):\n",
        "  analyzer.new_prompt = prompt"
      ]
    },
    {
      "cell_type": "code",
      "execution_count": 40,
      "metadata": {
        "colab": {
          "base_uri": "https://localhost:8080/"
        },
        "id": "3LcyR1QlJeb8",
        "outputId": "591fb41c-10e4-4b73-9966-3d148999f8e6"
      },
      "outputs": [
        {
          "output_type": "stream",
          "name": "stdout",
          "text": [
            "/content/eCLIPsed\n"
          ]
        },
        {
          "output_type": "stream",
          "name": "stderr",
          "text": [
            "100%|██████████| 200/200 [02:50<00:00,  1.17it/s]\n"
          ]
        }
      ],
      "source": [
        "%cd /content/eCLIPsed\n",
        "from utils.train_utils import train_eCLIPsed_model\n",
        "torch.cuda.empty_cache()\n",
        "train_eCLIPsed_model(TRAINING_PARAMS,\n",
        "                analyzer=analyzer,\n",
        "                localization_loss_lambda=0.08,\n",
        "                gamma_correlation=0.0,\n",
        "                single_image_seed=None, snapshot_interval=30)"
      ]
    },
    {
      "cell_type": "code",
      "execution_count": 14,
      "metadata": {
        "cellView": "form",
        "id": "SQDGZnejJeb8"
      },
      "outputs": [],
      "source": [
        "download_models = False #@param {type: \"boolean\"}\n",
        "\n",
        "if (download_models):\n",
        "    !zip -r /content/eCLIPsed/out.zip /content/eCLIPsed/out\n",
        "    from google.colab import files\n",
        "    files.download('/content/eCLIPsed/out.zip')"
      ]
    },
    {
      "cell_type": "markdown",
      "metadata": {
        "id": "Rtm23WYLJeb8"
      },
      "source": [
        "# 2. Running a Streamlit app"
      ]
    },
    {
      "cell_type": "code",
      "source": [
        "!git pull"
      ],
      "metadata": {
        "id": "prtxq1cJLXh8"
      },
      "execution_count": null,
      "outputs": []
    },
    {
      "cell_type": "code",
      "execution_count": 41,
      "metadata": {
        "id": "T2MBTx8bJeb9"
      },
      "outputs": [],
      "source": [
        "torch.cuda.empty_cache()"
      ]
    },
    {
      "cell_type": "code",
      "execution_count": null,
      "metadata": {
        "id": "kC_EW8c8Jeb9",
        "cellView": "form"
      },
      "outputs": [],
      "source": [
        "app_name = \"sequential_editing\" #@param [\"sequential_editing\", \"2D_visualization\"]\n",
        "\n",
        "%cd /content/eCLIPsed/apps\n",
        "if (app_name == 'sequential_editing'):\n",
        "  !streamlit run sequential_editing.py & npx localtunnel --port 8501\n",
        "elif (app_name == '2D_visualization'):\n",
        "  !streamlit run 2D_visualization.py & npx localtunnel --port 8501"
      ]
    }
  ],
  "metadata": {
    "kernelspec": {
      "display_name": "Python 3",
      "name": "python3"
    },
    "language_info": {
      "codemirror_mode": {
        "name": "ipython",
        "version": 3
      },
      "file_extension": ".py",
      "mimetype": "text/x-python",
      "name": "python",
      "nbconvert_exporter": "python",
      "pygments_lexer": "ipython3",
      "version": "3.9.6"
    },
    "orig_nbformat": 4,
    "colab": {
      "provenance": [],
      "gpuType": "T4"
    },
    "accelerator": "GPU"
  },
  "nbformat": 4,
  "nbformat_minor": 0
}